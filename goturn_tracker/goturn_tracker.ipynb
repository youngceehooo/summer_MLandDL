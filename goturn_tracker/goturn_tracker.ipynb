{
 "cells": [
  {
   "cell_type": "code",
   "execution_count": 2,
   "id": "4c8035ab",
   "metadata": {},
   "outputs": [],
   "source": [
    "# Import modules\n",
    "import cv2, sys, os\n",
    " \n",
    "if  not (os.path.isfile('goturn.caffemodel') and os.path.isfile('goturn.prototxt')):\n",
    "    errorMsg = '''\n",
    "    Could not find GOTURN model in current directory.\n",
    "    Please ensure goturn.caffemodel and goturn.prototxt are in the current directory\n",
    "    '''\n",
    " \n",
    "    print(errorMsg)\n",
    "    sys.exit()\n",
    " \n",
    "# Create tracker\n",
    "tracker = cv2.TrackerGOTURN_create()   \n",
    " \n",
    "# Read video\n",
    "video = cv2.VideoCapture(\"16run.mp4\")\n",
    " \n",
    "# Exit if video not opened\n",
    "if not video.isOpened():\n",
    "    print(\"Could not open video\")\n",
    "    sys.exit()\n",
    " \n",
    "# Read first frame\n",
    "ok,frame = video.read()\n",
    "if not ok:\n",
    "    print(\"Cannot read video file\")\n",
    "    sys.exit()\n",
    " \n",
    " \n",
    "# Define a bounding box\n",
    "bbox = (276, 23, 86, 320)\n",
    " \n",
    "# Uncomment the line below to select a different bounding box\n",
    "bbox = cv2.selectROI(frame, False)\n",
    " \n",
    "# Initialize tracker with first frame and bounding box\n",
    "ok = tracker.init(frame,bbox)\n",
    " \n",
    "while True:\n",
    "    # Read a new frame\n",
    "    ok, frame = video.read()\n",
    "    if not ok:\n",
    "        break\n",
    " \n",
    "    # Start timer\n",
    "    timer = cv2.getTickCount()\n",
    " \n",
    "    # Update tracker\n",
    "    ok, bbox = tracker.update(frame)\n",
    " \n",
    "    # Calculate Frames per second (FPS)\n",
    "    fps = cv2.getTickFrequency() / (cv2.getTickCount() - timer);\n",
    " \n",
    "    # Draw bounding box\n",
    "    if ok:\n",
    "        # Tracking success\n",
    "        p1 = (int(bbox[0]), int(bbox[1]))\n",
    "        p2 = (int(bbox[0] + bbox[2]), int(bbox[1] + bbox[3]))\n",
    "        cv2.rectangle(frame, p1, p2, (255,0,0), 2, 1)\n",
    "    else :\n",
    "        # Tracking failure\n",
    "        cv2.putText(frame, \"Tracking failure detected\", (100,80), cv2.FONT_HERSHEY_SIMPLEX, 0.75,(0,0,255),2)\n",
    " \n",
    "    # Display tracker type on frame\n",
    "    cv2.putText(frame, \"GOTURN Tracker\", (100,20), cv2.FONT_HERSHEY_SIMPLEX, 0.75, (50,170,50),2);\n",
    " \n",
    "    # Display FPS on frame\n",
    "    cv2.putText(frame, \"FPS : \" + str(int(fps)), (100,50), cv2.FONT_HERSHEY_SIMPLEX, 0.75, (50,170,50), 2);\n",
    " \n",
    "    # Display result\n",
    "    cv2.imshow(\"Tracking\", frame)\n",
    " \n",
    "    # Exit if ESC pressed\n",
    "    k = cv2.waitKey(1) & 0xff\n",
    "    if k == ord('q'):  \n",
    "        break  \n",
    "video.release()\n",
    "cv2.destroyAllWindows()"
   ]
  },
  {
   "cell_type": "raw",
   "id": "7a101256",
   "metadata": {},
   "source": [
    "首先，导入所需的模块：cv2（OpenCV库的Python接口），sys（提供对解释器的接口）和os（提供对操作系统的接口）。\n",
    "检查当前目录下是否存在名为goturn.caffemodel和goturn.prototxt的文件。如果不存在，则打印错误消息并退出脚本。这两个文件是GOTURN跟踪器的模型文件和配置文件。\n",
    "创建一个GOTURN跟踪器对象。\n",
    "读取视频文件。\n",
    "检查视频是否成功打开。如果无法打开，则打印错误消息并退出脚本。\n",
    "读取视频的第一帧。\n",
    "定义一个目标对象的矩形框（bounding box），该矩形框将被用于初始跟踪。这里给定了一个硬编码的矩形框，也可以通过调用cv2.selectROI()函数来动态选择矩形框。\n",
    "使用第一帧和目标矩形框初始化跟踪器。\n",
    "进入一个无限循环，读取视频的每一帧并更新跟踪器。\n",
    "计算帧率（FPS）。\n",
    "根据跟踪器的状态，在帧上绘制矩形框。如果跟踪成功，则绘制蓝色的矩形框；如果跟踪失败，则在帧上显示红色的“Tracking failure detected”文本。\n",
    "在帧上显示GOTURN跟踪器字样。\n",
    "在帧上显示FPS。\n",
    "显示结果，即经过跟踪处理后的视频帧。\n",
    "如果按下ESC键，则退出循环，结束脚本。"
   ]
  },
  {
   "cell_type": "code",
   "execution_count": 1,
   "id": "6cce9c12",
   "metadata": {},
   "outputs": [
    {
     "name": "stderr",
     "output_type": "stream",
     "text": [
      "No traceback available to show.\n"
     ]
    }
   ],
   "source": [
    "%tb"
   ]
  },
  {
   "cell_type": "code",
   "execution_count": null,
   "id": "893c7c19",
   "metadata": {},
   "outputs": [],
   "source": []
  }
 ],
 "metadata": {
  "kernelspec": {
   "display_name": "pytorch",
   "language": "python",
   "name": "pytorch"
  },
  "language_info": {
   "codemirror_mode": {
    "name": "ipython",
    "version": 3
   },
   "file_extension": ".py",
   "mimetype": "text/x-python",
   "name": "python",
   "nbconvert_exporter": "python",
   "pygments_lexer": "ipython3",
   "version": "3.11.3"
  },
  "varInspector": {
   "cols": {
    "lenName": 16,
    "lenType": 16,
    "lenVar": 40
   },
   "kernels_config": {
    "python": {
     "delete_cmd_postfix": "",
     "delete_cmd_prefix": "del ",
     "library": "var_list.py",
     "varRefreshCmd": "print(var_dic_list())"
    },
    "r": {
     "delete_cmd_postfix": ") ",
     "delete_cmd_prefix": "rm(",
     "library": "var_list.r",
     "varRefreshCmd": "cat(var_dic_list()) "
    }
   },
   "types_to_exclude": [
    "module",
    "function",
    "builtin_function_or_method",
    "instance",
    "_Feature"
   ],
   "window_display": false
  }
 },
 "nbformat": 4,
 "nbformat_minor": 5
}
