{
 "cells": [
  {
   "cell_type": "code",
   "execution_count": 1,
   "id": "4c8035ab",
   "metadata": {},
   "outputs": [
    {
     "name": "stdout",
     "output_type": "stream",
     "text": [
      "Could not open video\n"
     ]
    },
    {
     "ename": "SystemExit",
     "evalue": "",
     "output_type": "error",
     "traceback": [
      "An exception has occurred, use %tb to see the full traceback.\n",
      "\u001b[1;31mSystemExit\u001b[0m\n"
     ]
    },
    {
     "name": "stderr",
     "output_type": "stream",
     "text": [
      "C:\\Users\\obvious\\anaconda3\\envs\\pytorch\\Lib\\site-packages\\IPython\\core\\interactiveshell.py:3513: UserWarning: To exit: use 'exit', 'quit', or Ctrl-D.\n",
      "  warn(\"To exit: use 'exit', 'quit', or Ctrl-D.\", stacklevel=1)\n"
     ]
    }
   ],
   "source": [
    "# Import modules\n",
    "import cv2, sys, os\n",
    " \n",
    "if  not (os.path.isfile('goturn.caffemodel') and os.path.isfile('goturn.prototxt')):\n",
    "    errorMsg = '''\n",
    "    Could not find GOTURN model in current directory.\n",
    "    Please ensure goturn.caffemodel and goturn.prototxt are in the current directory\n",
    "    '''\n",
    " \n",
    "    print(errorMsg)\n",
    "    sys.exit()\n",
    " \n",
    "# Create tracker\n",
    "tracker = cv2.TrackerGOTURN_create()   \n",
    " \n",
    "# Read video\n",
    "video = cv2.VideoCapture(\"16run.mp4\")\n",
    " \n",
    "# Exit if video not opened\n",
    "if not video.isOpened():\n",
    "    print(\"Could not open video\")\n",
    "    sys.exit()\n",
    " \n",
    "# Read first frame\n",
    "ok,frame = video.read()\n",
    "if not ok:\n",
    "    print(\"Cannot read video file\")\n",
    "    sys.exit()\n",
    " \n",
    " \n",
    "# Define a bounding box\n",
    "bbox = (276, 23, 86, 320)\n",
    " \n",
    "# Uncomment the line below to select a different bounding box\n",
    "bbox = cv2.selectROI(frame, False)\n",
    " \n",
    "# Initialize tracker with first frame and bounding box\n",
    "ok = tracker.init(frame,bbox)\n",
    " \n",
    "while True:\n",
    "    # Read a new frame\n",
    "    ok, frame = video.read()\n",
    "    if not ok:\n",
    "        break\n",
    " \n",
    "    # Start timer\n",
    "    timer = cv2.getTickCount()\n",
    " \n",
    "    # Update tracker\n",
    "    ok, bbox = tracker.update(frame)\n",
    " \n",
    "    # Calculate Frames per second (FPS)\n",
    "    fps = cv2.getTickFrequency() / (cv2.getTickCount() - timer);\n",
    " \n",
    "    # Draw bounding box\n",
    "    if ok:\n",
    "        # Tracking success\n",
    "        p1 = (int(bbox[0]), int(bbox[1]))\n",
    "        p2 = (int(bbox[0] + bbox[2]), int(bbox[1] + bbox[3]))\n",
    "        cv2.rectangle(frame, p1, p2, (255,0,0), 2, 1)\n",
    "    else :\n",
    "        # Tracking failure\n",
    "        cv2.putText(frame, \"Tracking failure detected\", (100,80), cv2.FONT_HERSHEY_SIMPLEX, 0.75,(0,0,255),2)\n",
    " \n",
    "    # Display tracker type on frame\n",
    "    cv2.putText(frame, \"GOTURN Tracker\", (100,20), cv2.FONT_HERSHEY_SIMPLEX, 0.75, (50,170,50),2);\n",
    " \n",
    "    # Display FPS on frame\n",
    "    cv2.putText(frame, \"FPS : \" + str(int(fps)), (100,50), cv2.FONT_HERSHEY_SIMPLEX, 0.75, (50,170,50), 2);\n",
    " \n",
    "    # Display result\n",
    "    cv2.imshow(\"Tracking\", frame)\n",
    " \n",
    "    # Exit if ESC pressed\n",
    "    k = cv2.waitKey(1) & 0xff\n",
    "    if k == 27:\n",
    "        break"
   ]
  },
  {
   "cell_type": "code",
   "execution_count": 1,
   "id": "87cf8743",
   "metadata": {},
   "outputs": [],
   "source": [
    "import cv2, sys, os"
   ]
  },
  {
   "cell_type": "code",
   "execution_count": 2,
   "id": "6cce9c12",
   "metadata": {},
   "outputs": [
    {
     "ename": "SystemExit",
     "evalue": "",
     "output_type": "error",
     "traceback": [
      "\u001b[1;31m---------------------------------------------------------------------------\u001b[0m",
      "\u001b[1;31mSystemExit\u001b[0m                                Traceback (most recent call last)",
      "Cell \u001b[1;32mIn[1], line 22\u001b[0m\n\u001b[0;32m     20\u001b[0m \u001b[38;5;28;01mif\u001b[39;00m \u001b[38;5;129;01mnot\u001b[39;00m video\u001b[38;5;241m.\u001b[39misOpened():\n\u001b[0;32m     21\u001b[0m     \u001b[38;5;28mprint\u001b[39m(\u001b[38;5;124m\"\u001b[39m\u001b[38;5;124mCould not open video\u001b[39m\u001b[38;5;124m\"\u001b[39m)\n\u001b[1;32m---> 22\u001b[0m     sys\u001b[38;5;241m.\u001b[39mexit()\n\u001b[0;32m     24\u001b[0m \u001b[38;5;66;03m# Read first frame\u001b[39;00m\n\u001b[0;32m     25\u001b[0m ok,frame \u001b[38;5;241m=\u001b[39m video\u001b[38;5;241m.\u001b[39mread()\n",
      "\u001b[1;31mSystemExit\u001b[0m: "
     ]
    }
   ],
   "source": [
    "%tb"
   ]
  },
  {
   "cell_type": "code",
   "execution_count": null,
   "id": "59ad1e07",
   "metadata": {},
   "outputs": [],
   "source": []
  }
 ],
 "metadata": {
  "kernelspec": {
   "display_name": "pytorch",
   "language": "python",
   "name": "pytorch"
  },
  "language_info": {
   "codemirror_mode": {
    "name": "ipython",
    "version": 3
   },
   "file_extension": ".py",
   "mimetype": "text/x-python",
   "name": "python",
   "nbconvert_exporter": "python",
   "pygments_lexer": "ipython3",
   "version": "3.11.3"
  },
  "varInspector": {
   "cols": {
    "lenName": 16,
    "lenType": 16,
    "lenVar": 40
   },
   "kernels_config": {
    "python": {
     "delete_cmd_postfix": "",
     "delete_cmd_prefix": "del ",
     "library": "var_list.py",
     "varRefreshCmd": "print(var_dic_list())"
    },
    "r": {
     "delete_cmd_postfix": ") ",
     "delete_cmd_prefix": "rm(",
     "library": "var_list.r",
     "varRefreshCmd": "cat(var_dic_list()) "
    }
   },
   "types_to_exclude": [
    "module",
    "function",
    "builtin_function_or_method",
    "instance",
    "_Feature"
   ],
   "window_display": false
  }
 },
 "nbformat": 4,
 "nbformat_minor": 5
}
